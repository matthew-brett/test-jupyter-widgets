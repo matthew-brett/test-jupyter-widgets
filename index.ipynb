{
 "cells": [
  {
   "cell_type": "raw",
   "id": "45563f3e-fc1f-4d68-a135-3a7929ef0d27",
   "metadata": {},
   "source": [
    "---\n",
    "execute:\n",
    "    enabled: true\n",
    "---"
   ]
  },
  {
   "cell_type": "code",
   "execution_count": null,
   "id": "520fa8f5-a5bc-429e-8657-4fced4e228fe",
   "metadata": {},
   "outputs": [],
   "source": [
    "import ipywidgets"
   ]
  },
  {
   "cell_type": "code",
   "execution_count": null,
   "id": "578d9e64-a0fb-40f3-82ce-321198e7addf",
   "metadata": {},
   "outputs": [
    {
     "data": {
      "application/vnd.jupyter.widget-view+json": {
       "model_id": "7e2f2aa0269e44f1a566b370568c8da8",
       "version_major": 2,
       "version_minor": 0
      },
      "text/plain": [
       "IntSlider(value=0)"
      ]
     },
     "execution_count": null,
     "metadata": {},
     "output_type": "execute_result"
    }
   ],
   "source": [
    "ipywidgets.IntSlider()"
   ]
  }
 ],
 "metadata": {
  "kernelspec": {
   "display_name": "Python 3 (ipykernel)",
   "language": "python",
   "name": "python3"
  }
 },
 "nbformat": 4,
 "nbformat_minor": 5
}
