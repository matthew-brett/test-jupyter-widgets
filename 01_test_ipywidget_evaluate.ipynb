{
 "cells": [
  {
   "cell_type": "raw",
   "id": "c9361832-f608-4444-8c72-f3d134963d9f",
   "metadata": {},
   "source": [
    "---\n",
    "execute:\n",
    "    enabled: true\n",
    "---"
   ]
  },
  {
   "cell_type": "markdown",
   "id": "02fc431d-88b6-44ed-bcee-f85816fe5a06",
   "metadata": {},
   "source": [
    "# Test out evaluating ipywidget code"
   ]
  },
  {
   "cell_type": "markdown",
   "id": "940910dc-c824-4605-8833-929dcacf05f6",
   "metadata": {},
   "source": [
    "## Test evaluating standard widgets"
   ]
  },
  {
   "cell_type": "code",
   "execution_count": null,
   "id": "520fa8f5-a5bc-429e-8657-4fced4e228fe",
   "metadata": {},
   "outputs": [],
   "source": [
    "import ipywidgets"
   ]
  },
  {
   "cell_type": "code",
   "execution_count": null,
   "id": "578d9e64-a0fb-40f3-82ce-321198e7addf",
   "metadata": {},
   "outputs": [
    {
     "data": {
      "application/vnd.jupyter.widget-view+json": {
       "model_id": "0a4aeb9d9cd0430ca3518a9c113ffee6",
       "version_major": 2,
       "version_minor": 0
      },
      "text/plain": [
       "IntSlider(value=0)"
      ]
     },
     "execution_count": null,
     "metadata": {},
     "output_type": "execute_result"
    }
   ],
   "source": [
    "#|exec_doc\n",
    "ipywidgets.IntSlider()"
   ]
  },
  {
   "cell_type": "markdown",
   "id": "415bf93e-f76a-4af2-9e92-95ea34e62bc7",
   "metadata": {},
   "source": [
    "## Test evaluating ipyleaflet"
   ]
  },
  {
   "cell_type": "code",
   "execution_count": null,
   "id": "d4ca3be2-4a21-4d84-92c8-63f1e197900d",
   "metadata": {},
   "outputs": [],
   "source": [
    "from ipyleaflet import Map, basemaps, basemap_to_tiles"
   ]
  },
  {
   "cell_type": "code",
   "execution_count": null,
   "id": "66cb7cde-10cd-43f1-9186-6fb263e34737",
   "metadata": {},
   "outputs": [
    {
     "data": {
      "application/vnd.jupyter.widget-view+json": {
       "model_id": "0b6f5859d1834e8e8fa432d6ebb39b05",
       "version_major": 2,
       "version_minor": 0
      },
      "text/plain": [
       "Map(center=[48.204793, 350.121558], controls=(ZoomControl(options=['position', 'zoom_in_text', 'zoom_in_title'…"
      ]
     },
     "execution_count": null,
     "metadata": {},
     "output_type": "execute_result"
    }
   ],
   "source": [
    "#|exec_doc\n",
    "m = Map(\n",
    "    basemap=basemap_to_tiles(basemaps.OpenStreetMap.Mapnik),\n",
    "    center=(48.204793, 350.121558),\n",
    "    zoom=3\n",
    "    )\n",
    "m"
   ]
  }
 ],
 "metadata": {
  "kernelspec": {
   "display_name": "Python 3 (ipykernel)",
   "language": "python",
   "name": "python3"
  }
 },
 "nbformat": 4,
 "nbformat_minor": 5
}
