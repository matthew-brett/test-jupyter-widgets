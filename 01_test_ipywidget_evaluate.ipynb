{
 "cells": [
  {
   "cell_type": "raw",
   "id": "c9361832-f608-4444-8c72-f3d134963d9f",
   "metadata": {},
   "source": [
    "---\n",
    "execute:\n",
    "    enabled: true\n",
    "---"
   ]
  },
  {
   "cell_type": "markdown",
   "id": "02fc431d-88b6-44ed-bcee-f85816fe5a06",
   "metadata": {},
   "source": [
    "# Test out evaluating ipywidget code"
   ]
  },
  {
   "cell_type": "markdown",
   "id": "940910dc-c824-4605-8833-929dcacf05f6",
   "metadata": {},
   "source": [
    "## Test evaluating standard widgets"
   ]
  },
  {
   "cell_type": "code",
   "execution_count": null,
   "id": "520fa8f5-a5bc-429e-8657-4fced4e228fe",
   "metadata": {},
   "outputs": [],
   "source": [
    "import ipywidgets"
   ]
  },
  {
   "cell_type": "code",
   "execution_count": null,
   "id": "578d9e64-a0fb-40f3-82ce-321198e7addf",
   "metadata": {},
   "outputs": [
    {
     "data": {
      "application/vnd.jupyter.widget-view+json": {
       "model_id": "7453e9bc9b5044d3917a3381ecc70112",
       "version_major": 2,
       "version_minor": 0
      },
      "text/plain": [
       "IntSlider(value=0)"
      ]
     },
     "execution_count": null,
     "metadata": {},
     "output_type": "execute_result"
    }
   ],
   "source": [
    "ipywidgets.IntSlider()"
   ]
  },
  {
   "cell_type": "markdown",
   "id": "415bf93e-f76a-4af2-9e92-95ea34e62bc7",
   "metadata": {},
   "source": [
    "## Test evaluating ipyleaflet"
   ]
  },
  {
   "cell_type": "code",
   "execution_count": null,
   "id": "d4ca3be2-4a21-4d84-92c8-63f1e197900d",
   "metadata": {},
   "outputs": [],
   "source": [
    "from ipyleaflet import Map, basemaps, basemap_to_tiles"
   ]
  },
  {
   "cell_type": "code",
   "execution_count": null,
   "id": "66cb7cde-10cd-43f1-9186-6fb263e34737",
   "metadata": {},
   "outputs": [
    {
     "data": {
      "application/vnd.jupyter.widget-view+json": {
       "model_id": "e48cd30053ae4c6b95004dddc793d595",
       "version_major": 2,
       "version_minor": 0
      },
      "text/plain": [
       "Map(center=[48.204793, 350.121558], controls=(ZoomControl(options=['position', 'zoom_in_text', 'zoom_in_title'…"
      ]
     },
     "execution_count": null,
     "metadata": {},
     "output_type": "execute_result"
    }
   ],
   "source": [
    "m = Map(\n",
    "    basemap=basemap_to_tiles(basemaps.OpenStreetMap.Mapnik),\n",
    "    center=(48.204793, 350.121558),\n",
    "    zoom=3\n",
    "    )\n",
    "m"
   ]
  },
  {
   "cell_type": "code",
   "execution_count": null,
   "id": "b779b21e-b852-411d-a310-6fdcc8c1760a",
   "metadata": {},
   "outputs": [
    {
     "ename": "ModuleNotFoundError",
     "evalue": "No module named 'ipytree'",
     "output_type": "error",
     "traceback": [
      "\u001b[0;31m---------------------------------------------------------------------------\u001b[0m",
      "\u001b[0;31mModuleNotFoundError\u001b[0m                       Traceback (most recent call last)",
      "Cell \u001b[0;32mIn [5], line 1\u001b[0m\n\u001b[0;32m----> 1\u001b[0m \u001b[38;5;28;01mfrom\u001b[39;00m \u001b[38;5;21;01mipytree\u001b[39;00m \u001b[38;5;28;01mimport\u001b[39;00m Tree, Node\n",
      "\u001b[0;31mModuleNotFoundError\u001b[0m: No module named 'ipytree'"
     ]
    }
   ],
   "source": [
    "from ipytree import Tree, Node"
   ]
  },
  {
   "cell_type": "code",
   "execution_count": null,
   "id": "69dee645-0038-4976-a021-5e39efc3c87a",
   "metadata": {},
   "outputs": [],
   "source": [
    "tree = Tree(stripes=True)\n",
    "tree"
   ]
  },
  {
   "cell_type": "code",
   "execution_count": null,
   "id": "c46bb6b2-fba1-4f81-b1f3-0b426e6a7731",
   "metadata": {},
   "outputs": [],
   "source": [
    "node1 = Node('node1')\n",
    "tree.add_node(node1)"
   ]
  }
 ],
 "metadata": {
  "kernelspec": {
   "display_name": "Python 3 (ipykernel)",
   "language": "python",
   "name": "python3"
  }
 },
 "nbformat": 4,
 "nbformat_minor": 5
}
